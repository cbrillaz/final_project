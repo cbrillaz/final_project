{
 "cells": [
  {
   "cell_type": "code",
   "execution_count": 202,
   "metadata": {},
   "outputs": [],
   "source": [
    "%matplotlib inline\n",
    "import matplotlib.pyplot as plt\n",
    "from sklearn.model_selection import train_test_split\n",
    "from sklearn.preprocessing import LabelEncoder, StandardScaler\n",
    "from keras.utils import to_categorical\n",
    "import numpy as np\n",
    "import pandas as pd\n",
    "import warnings\n",
    "from mpl_toolkits.mplot3d import Axes3D\n",
    "from sklearn.linear_model import LinearRegression\n",
    "from sklearn.linear_model import LogisticRegression\n",
    "from sklearn.neighbors import KNeighborsClassifier\n",
    "from matplotlib import style\n",
    "from sklearn.svm import SVC, LinearSVC\n"
   ]
  },
  {
   "cell_type": "code",
   "execution_count": 93,
   "metadata": {},
   "outputs": [
    {
     "name": "stdout",
     "output_type": "stream",
     "text": [
      "(1020, 34) (1020,)\n"
     ]
    }
   ],
   "source": [
    "schedule = pd.read_csv(r'C:\\Users\\surfn\\Desktop\\FINAL_PROJECT\\schedule.csv')\n",
    "\n",
    "X = schedule.drop(\"Winner\", axis=1)\n",
    "y = schedule[\"Winner\"].values.reshape(-1)\n",
    "print(X.shape, y.shape)\n"
   ]
  },
  {
   "cell_type": "code",
   "execution_count": 17,
   "metadata": {},
   "outputs": [],
   "source": [
    "X_train, X_test, y_train, y_test = train_test_split(X, y, random_state=42)"
   ]
  },
  {
   "cell_type": "code",
   "execution_count": 18,
   "metadata": {},
   "outputs": [
    {
     "name": "stderr",
     "output_type": "stream",
     "text": [
      "C:\\ProgramData\\Anaconda3\\lib\\site-packages\\sklearn\\preprocessing\\data.py:625: DataConversionWarning: Data with input dtype int64, float64 were all converted to float64 by StandardScaler.\n",
      "  return self.partial_fit(X, y)\n",
      "C:\\ProgramData\\Anaconda3\\lib\\site-packages\\sklearn\\utils\\validation.py:595: DataConversionWarning: Data with input dtype int64 was converted to float64 by StandardScaler.\n",
      "  warnings.warn(msg, DataConversionWarning)\n",
      "C:\\ProgramData\\Anaconda3\\lib\\site-packages\\ipykernel_launcher.py:4: DataConversionWarning: Data with input dtype int64, float64 were all converted to float64 by StandardScaler.\n",
      "  after removing the cwd from sys.path.\n",
      "C:\\ProgramData\\Anaconda3\\lib\\site-packages\\ipykernel_launcher.py:5: DataConversionWarning: Data with input dtype int64, float64 were all converted to float64 by StandardScaler.\n",
      "  \"\"\"\n",
      "C:\\ProgramData\\Anaconda3\\lib\\site-packages\\sklearn\\utils\\validation.py:595: DataConversionWarning: Data with input dtype int64 was converted to float64 by StandardScaler.\n",
      "  warnings.warn(msg, DataConversionWarning)\n",
      "C:\\ProgramData\\Anaconda3\\lib\\site-packages\\sklearn\\utils\\validation.py:595: DataConversionWarning: Data with input dtype int64 was converted to float64 by StandardScaler.\n",
      "  warnings.warn(msg, DataConversionWarning)\n",
      "C:\\ProgramData\\Anaconda3\\lib\\site-packages\\sklearn\\preprocessing\\data.py:625: DataConversionWarning: Data with input dtype int64, float64 were all converted to float64 by StandardScaler.\n",
      "  return self.partial_fit(X, y)\n",
      "C:\\ProgramData\\Anaconda3\\lib\\site-packages\\sklearn\\utils\\validation.py:595: DataConversionWarning: Data with input dtype int64 was converted to float64 by StandardScaler.\n",
      "  warnings.warn(msg, DataConversionWarning)\n",
      "C:\\ProgramData\\Anaconda3\\lib\\site-packages\\ipykernel_launcher.py:11: DataConversionWarning: Data with input dtype int64, float64 were all converted to float64 by StandardScaler.\n",
      "  # This is added back by InteractiveShellApp.init_path()\n",
      "C:\\ProgramData\\Anaconda3\\lib\\site-packages\\ipykernel_launcher.py:12: DataConversionWarning: Data with input dtype int64, float64 were all converted to float64 by StandardScaler.\n",
      "  if sys.path[0] == '':\n",
      "C:\\ProgramData\\Anaconda3\\lib\\site-packages\\sklearn\\utils\\validation.py:595: DataConversionWarning: Data with input dtype int64 was converted to float64 by StandardScaler.\n",
      "  warnings.warn(msg, DataConversionWarning)\n",
      "C:\\ProgramData\\Anaconda3\\lib\\site-packages\\sklearn\\utils\\validation.py:595: DataConversionWarning: Data with input dtype int64 was converted to float64 by StandardScaler.\n",
      "  warnings.warn(msg, DataConversionWarning)\n"
     ]
    }
   ],
   "source": [
    "X_scaler = StandardScaler().fit(X_train)\n",
    "y_scaler = StandardScaler().fit(y_train)\n",
    "\n",
    "X_train_scaled = X_scaler.transform(X_train)\n",
    "X_test_scaled = X_scaler.transform(X_test)\n",
    "y_train_scaled = y_scaler.transform(y_train)\n",
    "y_test_scaled = y_scaler.transform(y_test)\n",
    "X_scaler = StandardScaler().fit(X_train)\n",
    "y_scaler = StandardScaler().fit(y_train)\n",
    "\n",
    "X_train_scaled = X_scaler.transform(X_train)\n",
    "X_test_scaled = X_scaler.transform(X_test)\n",
    "y_train_scaled = y_scaler.transform(y_train)\n",
    "y_test_scaled = y_scaler.transform(y_test)"
   ]
  },
  {
   "cell_type": "code",
   "execution_count": 19,
   "metadata": {},
   "outputs": [
    {
     "data": {
      "image/png": "[encoded data removed]",
      "text/plain": [
       "<Figure size 432x288 with 1 Axes>"
      ]
     },
     "metadata": {
      "needs_background": "light"
     },
     "output_type": "display_data"
    },
    {
     "ename": "NameError",
     "evalue": "name 'score' is not defined",
     "output_type": "error",
     "traceback": [
      "\u001b[1;31m---------------------------------------------------------------------------\u001b[0m",
      "\u001b[1;31mNameError\u001b[0m                                 Traceback (most recent call last)",
      "\u001b[1;32m<ipython-input-19-c2adf3273490>\u001b[0m in \u001b[0;36m<module>\u001b[1;34m\u001b[0m\n\u001b[0;32m      7\u001b[0m \u001b[0mplt\u001b[0m\u001b[1;33m.\u001b[0m\u001b[0mtitle\u001b[0m\u001b[1;33m(\u001b[0m\u001b[1;34m\"Residual Plot\"\u001b[0m\u001b[1;33m)\u001b[0m\u001b[1;33m\u001b[0m\u001b[1;33m\u001b[0m\u001b[0m\n\u001b[0;32m      8\u001b[0m \u001b[0mplt\u001b[0m\u001b[1;33m.\u001b[0m\u001b[0mshow\u001b[0m\u001b[1;33m(\u001b[0m\u001b[1;33m)\u001b[0m\u001b[1;33m\u001b[0m\u001b[1;33m\u001b[0m\u001b[0m\n\u001b[1;32m----> 9\u001b[1;33m \u001b[0mprint\u001b[0m\u001b[1;33m(\u001b[0m\u001b[0mscore\u001b[0m\u001b[1;33m)\u001b[0m\u001b[1;33m\u001b[0m\u001b[1;33m\u001b[0m\u001b[0m\n\u001b[0m",
      "\u001b[1;31mNameError\u001b[0m: name 'score' is not defined"
     ]
    }
   ],
   "source": [
    "model = LinearRegression()\n",
    "model.fit(X_train_scaled, y_train_scaled)\n",
    "plt.scatter(model.predict(X_train_scaled), model.predict(X_train_scaled) - y_train_scaled, c=\"blue\", label=\"Training Data\")\n",
    "plt.scatter(model.predict(X_test_scaled), model.predict(X_test_scaled) - y_test_scaled, c=\"orange\", label=\"Testing Data\")\n",
    "plt.legend()\n",
    "plt.hlines(y=0, xmin=y_test_scaled.min(), xmax=y_test_scaled.max())\n",
    "plt.title(\"Residual Plot\")\n",
    "plt.show()\n",
    "print(score)"
   ]
  },
  {
   "cell_type": "code",
   "execution_count": null,
   "metadata": {},
   "outputs": [],
   "source": []
  },
  {
   "cell_type": "code",
   "execution_count": 20,
   "metadata": {},
   "outputs": [
    {
     "name": "stdout",
     "output_type": "stream",
     "text": [
      "R2 Score: 0.5966441683560562\n"
     ]
    }
   ],
   "source": [
    "model = LinearRegression()\n",
    "\n",
    "# Fitting our model with all of our features in X\n",
    "model.fit(X, y)\n",
    "\n",
    "score = model.score(X, y)\n",
    "print(f\"R2 Score: {score}\")"
   ]
  },
  {
   "cell_type": "code",
   "execution_count": 21,
   "metadata": {},
   "outputs": [
    {
     "data": {
      "image/png": "[encoded data removed]",
      "text/plain": [
       "<Figure size 432x288 with 1 Axes>"
      ]
     },
     "metadata": {
      "needs_background": "light"
     },
     "output_type": "display_data"
    }
   ],
   "source": [
    "predictions = model.predict(X)\n",
    "# Plot Residuals\n",
    "plt.scatter(predictions, predictions - y)\n",
    "plt.hlines(y=0, xmin=predictions.min(), xmax=predictions.max())\n",
    "plt.show()"
   ]
  },
  {
   "cell_type": "code",
   "execution_count": 109,
   "metadata": {},
   "outputs": [
    {
     "name": "stdout",
     "output_type": "stream",
     "text": [
      "(1020, 34) (1020,)\n"
     ]
    },
    {
     "data": {
      "text/plain": [
       "SVC(C=1.0, cache_size=200, class_weight=None, coef0=0.0,\n",
       "  decision_function_shape='ovr', degree=3, gamma='auto_deprecated',\n",
       "  kernel='linear', max_iter=-1, probability=False, random_state=None,\n",
       "  shrinking=True, tol=0.001, verbose=False)"
      ]
     },
     "execution_count": 109,
     "metadata": {},
     "output_type": "execute_result"
    }
   ],
   "source": [
    "schedule = pd.read_csv(r'C:\\Users\\surfn\\Desktop\\FINAL_PROJECT\\schedule.csv')\n",
    "\n",
    "X = schedule.drop(\"Winner\", axis=1)\n",
    "y = schedule[\"Winner\"].values.reshape(-1)\n",
    "print(X.shape, y.shape)\n",
    "\n",
    "model = SVC(kernel='linear')\n",
    "model.fit(X, y)\n"
   ]
  },
  {
   "cell_type": "code",
   "execution_count": 110,
   "metadata": {},
   "outputs": [],
   "source": [
    "# y = y.reshape(1020).shape"
   ]
  },
  {
   "cell_type": "code",
   "execution_count": 111,
   "metadata": {},
   "outputs": [
    {
     "name": "stdout",
     "output_type": "stream",
     "text": [
      "[ 0  1  2 ... 48 49 50]\n"
     ]
    }
   ],
   "source": [
    "print(YY.ravel())"
   ]
  },
  {
   "cell_type": "code",
   "execution_count": 117,
   "metadata": {},
   "outputs": [
    {
     "name": "stdout",
     "output_type": "stream",
     "text": [
      "0 57 0 51\n",
      "(1020, 34) (1020,) (57, 51) (57, 51)\n"
     ]
    }
   ],
   "source": [
    "x_min = X.iloc[:, 0].min()\n",
    "x_max = X.iloc[:, 0].max()\n",
    "y_min = X.iloc[:, 1].min()\n",
    "y_max = X.iloc[:, 1].max()\n",
    "\n",
    "print(x_min, x_max, y_min, y_max)\n",
    "\n",
    "print(X.shape,y.shape,XX.shape,YY.shape)"
   ]
  },
  {
   "cell_type": "code",
   "execution_count": 127,
   "metadata": {},
   "outputs": [
    {
     "name": "stdout",
     "output_type": "stream",
     "text": [
      "[[ 0  0]\n",
      " [ 0  1]\n",
      " [ 0  2]\n",
      " ...\n",
      " [56 48]\n",
      " [56 49]\n",
      " [56 50]]\n"
     ]
    }
   ],
   "source": [
    "print(np.c_[XX.ravel(), YY.ravel()])"
   ]
  },
  {
   "cell_type": "code",
   "execution_count": 129,
   "metadata": {},
   "outputs": [
    {
     "ename": "ValueError",
     "evalue": "cannot reshape array of size 1020 into shape (57,51)",
     "output_type": "error",
     "traceback": [
      "\u001b[1;31m---------------------------------------------------------------------------\u001b[0m",
      "\u001b[1;31mValueError\u001b[0m                                Traceback (most recent call last)",
      "\u001b[1;32m<ipython-input-129-07b2b8a18073>\u001b[0m in \u001b[0;36m<module>\u001b[1;34m\u001b[0m\n\u001b[0;32m      1\u001b[0m \u001b[0mXX\u001b[0m\u001b[1;33m,\u001b[0m \u001b[0mYY\u001b[0m \u001b[1;33m=\u001b[0m \u001b[0mnp\u001b[0m\u001b[1;33m.\u001b[0m\u001b[0mmgrid\u001b[0m\u001b[1;33m[\u001b[0m\u001b[0mx_min\u001b[0m\u001b[1;33m:\u001b[0m\u001b[0mx_max\u001b[0m\u001b[1;33m,\u001b[0m \u001b[0my_min\u001b[0m\u001b[1;33m:\u001b[0m\u001b[0my_max\u001b[0m\u001b[1;33m]\u001b[0m\u001b[1;33m\u001b[0m\u001b[1;33m\u001b[0m\u001b[0m\n\u001b[1;32m----> 2\u001b[1;33m \u001b[0mZ\u001b[0m \u001b[1;33m=\u001b[0m \u001b[0mZ\u001b[0m\u001b[1;33m.\u001b[0m\u001b[0mreshape\u001b[0m\u001b[1;33m(\u001b[0m\u001b[0mXX\u001b[0m\u001b[1;33m.\u001b[0m\u001b[0mshape\u001b[0m\u001b[1;33m)\u001b[0m\u001b[1;33m\u001b[0m\u001b[1;33m\u001b[0m\u001b[0m\n\u001b[0m\u001b[0;32m      3\u001b[0m \u001b[0mZ\u001b[0m \u001b[1;33m=\u001b[0m \u001b[0mmodel\u001b[0m\u001b[1;33m.\u001b[0m\u001b[0mdecision_function\u001b[0m\u001b[1;33m(\u001b[0m\u001b[0mXX\u001b[0m\u001b[1;33m)\u001b[0m\u001b[1;33m\u001b[0m\u001b[1;33m\u001b[0m\u001b[0m\n\u001b[0;32m      4\u001b[0m \u001b[0mprint\u001b[0m\u001b[1;33m(\u001b[0m\u001b[0mZ\u001b[0m\u001b[1;33m)\u001b[0m\u001b[1;33m\u001b[0m\u001b[1;33m\u001b[0m\u001b[0m\n",
      "\u001b[1;31mValueError\u001b[0m: cannot reshape array of size 1020 into shape (57,51)"
     ]
    }
   ],
   "source": [
    "\n",
    "Z = model.decision_function(X)\n",
    "print(Z)"
   ]
  },
  {
   "cell_type": "code",
   "execution_count": 219,
   "metadata": {},
   "outputs": [
    {
     "ename": "TypeError",
     "evalue": "'DataFrame' object cannot be interpreted as an integer",
     "output_type": "error",
     "traceback": [
      "\u001b[1;31m---------------------------------------------------------------------------\u001b[0m",
      "\u001b[1;31mTypeError\u001b[0m                                 Traceback (most recent call last)",
      "\u001b[1;32m<ipython-input-219-3003882cf3bb>\u001b[0m in \u001b[0;36m<module>\u001b[1;34m\u001b[0m\n\u001b[1;32m----> 1\u001b[1;33m \u001b[0mZ\u001b[0m \u001b[1;33m=\u001b[0m \u001b[0mZ\u001b[0m\u001b[1;33m.\u001b[0m\u001b[0mreshape\u001b[0m\u001b[1;33m(\u001b[0m\u001b[0mX\u001b[0m\u001b[1;33m,\u001b[0m\u001b[1;33m-\u001b[0m\u001b[1;36m1\u001b[0m\u001b[1;33m)\u001b[0m\u001b[1;33m\u001b[0m\u001b[1;33m\u001b[0m\u001b[0m\n\u001b[0m",
      "\u001b[1;31mTypeError\u001b[0m: 'DataFrame' object cannot be interpreted as an integer"
     ]
    }
   ],
   "source": [
    "Z = Z.reshape(X,-1)\n"
   ]
  },
  {
   "cell_type": "code",
   "execution_count": null,
   "metadata": {},
   "outputs": [],
   "source": []
  },
  {
   "cell_type": "code",
   "execution_count": 206,
   "metadata": {},
   "outputs": [
    {
     "name": "stdout",
     "output_type": "stream",
     "text": [
      "(1020, 32) (1020,)\n",
      "         H_PPG    H_PPGA     A_PPG    A_PPGA  H_Tempo_O  H_Pocket_time_O  \\\n",
      "432   27.58333  26.08333  22.83333  23.25000   6.583333            2.250   \n",
      "1014  31.12500  22.06250  23.31250  23.68750   8.625000            2.375   \n",
      "507   20.43750  18.43750  17.43750  24.75000  11.125000            2.063   \n",
      "33    42.00000  16.33333  15.00000  31.00000   9.000000            2.333   \n",
      "204   19.92308  22.38461  30.46154  19.00000  12.769230            2.154   \n",
      "889   18.87500  18.50000  16.00000  16.87500   9.875000            2.500   \n",
      "588   24.20000  21.80000  12.20000  16.80000   9.400000            2.000   \n",
      "730   23.92857  19.42857  28.21428  19.35714   8.642858            2.286   \n",
      "77    24.16667  23.16667  29.33333  20.33333  12.000000            2.500   \n",
      "84    27.33333  16.83333  22.16667  26.83333   9.500000            2.333   \n",
      "305   30.25000  25.50000  28.50000  31.75000   7.250000            2.000   \n",
      "82    25.80000  15.00000  19.00000  22.00000   8.400000            2.000   \n",
      "448   22.07692  19.38461  27.07692  24.61539   8.769231            2.000   \n",
      "997   19.53333  23.80000  23.33333  21.13333   8.466666            2.200   \n",
      "751   16.25000  24.50000  21.00000  27.25000  11.000000            2.500   \n",
      "531   22.50000  22.00000  26.50000  21.00000  11.500000            2.500   \n",
      "323   24.60000  26.40000  18.20000  28.40000   8.800000            2.200   \n",
      "495   21.93750  22.68750  23.06250  24.75000  11.187500            2.500   \n",
      "910   31.00000  23.22222  26.44444  25.77778   8.000000            2.222   \n",
      "5     31.00000  19.00000  19.00000  31.00000   9.000000            3.000   \n",
      "425   27.36364  25.00000  25.09091  25.00000   8.454545            2.182   \n",
      "490   24.80000  20.20000  22.20000  19.46667   8.133333            2.467   \n",
      "97    21.00000  29.14286  25.14286  24.71428  10.428570            2.143   \n",
      "1018  19.00000  18.56250  26.68750  21.12500  10.000000            2.313   \n",
      "422   32.54546  27.18182  21.72727  20.45455   9.454545            2.273   \n",
      "885   23.00000  26.22222  17.25000  31.50000  10.111110            2.222   \n",
      "281   19.50000  32.50000  23.00000  21.50000  11.000000            2.000   \n",
      "266   12.00000  10.00000  10.00000  12.00000  12.000000            2.000   \n",
      "442   24.16667  19.66667  20.16667  19.75000   8.000000            2.333   \n",
      "745   28.06667  19.66667  22.06667  20.33333  11.266670            2.133   \n",
      "...        ...       ...       ...       ...        ...              ...   \n",
      "955   17.91667  19.91667  20.25000  25.58333   9.666667            2.250   \n",
      "191   20.92308  17.07692  23.00000  24.61539  10.769230            2.154   \n",
      "385   23.66667  26.22222  15.66667  23.88889  11.444440            2.444   \n",
      "805   23.66667  20.00000  29.66667  25.66667   9.000000            2.333   \n",
      "413   16.18182  24.00000  25.66667  24.58333  10.727270            2.273   \n",
      "491   17.26667  20.26667  19.73333  20.33333   9.266666            2.267   \n",
      "343   20.00000  21.16667  18.83333  28.33333   9.166667            2.167   \n",
      "769   27.00000  20.00000  20.00000  27.00000  10.000000            2.000   \n",
      "308   19.75000  26.25000  19.75000  13.50000   7.500000            2.000   \n",
      "661   20.00000  23.00000  21.20000  16.80000   9.400000            2.600   \n",
      "130   25.44444  16.88889  20.44444  23.44444  10.444440            2.111   \n",
      "663   29.90000  19.60000  23.80000  26.30000  10.800000            2.100   \n",
      "871   27.71428  20.14286  24.00000  25.00000   7.714286            2.143   \n",
      "99    27.00000  18.33333  22.85714  19.57143  10.500000            2.333   \n",
      "372   20.87500  32.50000  30.25000  29.37500  13.625000            2.250   \n",
      "87    24.16667  17.50000  33.83333  19.16667   8.666667            2.167   \n",
      "458   14.92308  23.38461  32.92308  26.30769   8.923077            2.077   \n",
      "330   27.00000  17.16667  21.16667  30.83333  10.833330            2.667   \n",
      "214   17.00000  20.57143  22.00000  25.21428   9.857142            2.357   \n",
      "466   21.71428  19.14286  24.07143  23.00000   8.642858            2.000   \n",
      "121   23.00000  27.33333  19.50000  26.87500  10.222220            2.000   \n",
      "614   17.42857  18.85714  17.37500  30.37500  10.285710            2.143   \n",
      "20    25.50000  25.50000  25.00000  18.50000   9.500000            2.000   \n",
      "700   17.38461  20.38461  16.53846  20.84615  10.384610            2.231   \n",
      "71    27.40000  16.20000  16.20000  22.60000   9.400000            2.400   \n",
      "106   20.50000  26.25000  32.87500  19.12500   9.875000            2.125   \n",
      "270   19.00000  25.00000  29.50000  27.00000   9.500000            3.000   \n",
      "860   13.14286  25.85714  23.57143  23.42857   8.428572            2.286   \n",
      "435   17.16667  25.58333  25.91667  25.25000   7.833333            2.083   \n",
      "102   20.71428  23.14286  23.33333  29.83333  10.857140            2.286   \n",
      "\n",
      "      H_Pass_Attempts_O  H_Pass_Completions_O  H_Air_Yards_O  H_Pass_Yards_O  \\\n",
      "432            35.50000              22.08333       290.0000        278.5000   \n",
      "1014           31.43750              23.06250       227.8750        254.3750   \n",
      "507            36.68750              25.87500       242.0000        257.4375   \n",
      "33             29.33333              18.66667       330.6667        267.6667   \n",
      "204            40.23077              23.00000       392.8462        263.1538   \n",
      "889            29.12500              18.12500       238.8750        202.7500   \n",
      "588            33.80000              22.20000       293.8000        263.6000   \n",
      "730            37.78571              24.14286       343.5714        284.6429   \n",
      "77             30.00000              20.83333       276.1667        227.3333   \n",
      "84             30.16667              20.50000       217.6667        244.3333   \n",
      "305            35.75000              24.00000       255.0000        277.5000   \n",
      "82             34.00000              21.40000       320.8000        235.4000   \n",
      "448            33.69231              22.46154       238.0769        239.0000   \n",
      "997            36.00000              23.53333       250.3333        237.6000   \n",
      "751            29.50000              17.31250       216.8750        194.3125   \n",
      "531            27.50000              15.50000       216.5000        174.0000   \n",
      "323            36.80000              22.40000       322.0000        275.0000   \n",
      "495            35.81250              22.06250       359.5000        258.9375   \n",
      "910            40.11111              26.55556       308.0000        314.5555   \n",
      "5              32.00000              19.00000       358.0000        307.0000   \n",
      "425            37.09091              24.45455       277.0000        266.1818   \n",
      "490            37.13334              23.73333       318.0000        272.0667   \n",
      "97             37.85714              21.42857       373.1429        256.8571   \n",
      "1018           26.43750              17.81250       195.0000        194.6250   \n",
      "422            34.09091              23.45455       311.0000        316.6364   \n",
      "885            31.00000              19.00000       228.4444        248.0000   \n",
      "281            44.50000              29.00000       380.5000        346.5000   \n",
      "266            43.00000              27.00000       251.0000        258.0000   \n",
      "442            38.08333              24.50000       325.0000        274.6667   \n",
      "745            33.60000              24.20000       210.6000        271.0000   \n",
      "...                 ...                   ...            ...             ...   \n",
      "955            27.00000              18.25000       201.8333        206.8333   \n",
      "191            37.15385              22.61539       325.8462        250.8462   \n",
      "385            38.33333              23.55556       370.3333        266.8889   \n",
      "805            31.66667              21.33333       232.3333        215.3333   \n",
      "413            36.72727              22.54545       320.2727        262.4546   \n",
      "491            35.33333              21.13333       302.2667        204.7333   \n",
      "343            31.33333              19.33333       291.0000        227.0000   \n",
      "769            27.00000              19.00000       287.0000        226.0000   \n",
      "308            38.25000              21.50000       345.0000        253.0000   \n",
      "661            34.80000              22.30000       247.8000        225.3000   \n",
      "130            32.44444              21.44444       287.3333        265.8889   \n",
      "663            33.90000              24.30000       217.7000        275.9000   \n",
      "871            34.00000              21.85714       311.8571        255.4286   \n",
      "99             30.16667              16.83333       306.6667        212.5000   \n",
      "372            31.50000              17.50000       260.7500        202.2500   \n",
      "87             26.83333              18.66667       270.3333        234.1667   \n",
      "458            34.15385              20.30769       245.6154        219.7692   \n",
      "330            27.83333              17.16667       244.3333        181.0000   \n",
      "214            28.85714              16.64286       227.8571        182.1429   \n",
      "466            33.14286              21.78572       235.5714        232.2143   \n",
      "121            44.00000              30.44444       294.0000        344.0000   \n",
      "614            30.71428              19.42857       250.7143        228.0000   \n",
      "20             29.00000              19.00000       153.0000        217.0000   \n",
      "700            30.15385              18.23077       255.1538        213.3846   \n",
      "71             30.40000              21.40000       208.0000        242.2000   \n",
      "106            37.00000              23.25000       302.8750        278.0000   \n",
      "270            26.50000              17.00000       253.5000        209.0000   \n",
      "860            29.85714              17.28572       230.0000        174.2857   \n",
      "435            34.41667              19.50000       294.7500        230.6667   \n",
      "102            37.85714              25.85714       296.2857        244.2857   \n",
      "\n",
      "            ...          H_Air_Yards_D  H_Pass_Yards_D  H_Rushing_yards_D  \\\n",
      "432         ...               337.0000        278.4167           95.33334   \n",
      "1014        ...               305.9375        288.9375           82.68750   \n",
      "507         ...               295.3750        222.7500          110.68750   \n",
      "33          ...               193.3333        217.6667           91.33334   \n",
      "204         ...               291.5385        230.7692          116.92310   \n",
      "889         ...               235.0000        224.7500          103.50000   \n",
      "588         ...               276.0000        230.6000          105.80000   \n",
      "730         ...               266.0000        228.5000           98.92857   \n",
      "77          ...               356.6667        274.6667           87.66666   \n",
      "84          ...               330.8333        253.3333          118.50000   \n",
      "305         ...               293.7500        297.0000           81.25000   \n",
      "82          ...               311.8000        194.6000           94.60000   \n",
      "448         ...               317.0000        258.0769          123.76920   \n",
      "997         ...               291.8000        246.6667          116.00000   \n",
      "751         ...               286.0625        253.2500          118.56250   \n",
      "531         ...               282.5000        189.5000          142.50000   \n",
      "323         ...               296.0000        262.8000           96.80000   \n",
      "495         ...               295.0625        254.5000          119.43750   \n",
      "910         ...               341.8889        267.4445           92.00000   \n",
      "5           ...               233.0000        355.0000           62.00000   \n",
      "425         ...               334.1818        280.9091          124.36360   \n",
      "490         ...               260.8000        256.0000           95.06667   \n",
      "97          ...               283.0000        272.8571          102.42860   \n",
      "1018        ...               277.1875        228.6250          116.75000   \n",
      "422         ...               327.9091        295.2727          106.09090   \n",
      "885         ...               293.8889        264.4445          104.88890   \n",
      "281         ...               210.0000        296.0000          132.50000   \n",
      "266         ...               237.0000        186.0000           64.00000   \n",
      "442         ...               270.2500        266.0833           95.58334   \n",
      "745         ...               259.0000        234.4000          116.06670   \n",
      "...         ...                    ...             ...                ...   \n",
      "955         ...               261.3333        229.2500          116.75000   \n",
      "191         ...               255.4615        208.5385           86.69231   \n",
      "385         ...               300.1111        262.5555          120.66670   \n",
      "805         ...               317.6667        264.6667          118.33330   \n",
      "413         ...               293.2727        248.5455          108.27270   \n",
      "491         ...               278.0667        215.5333          102.53330   \n",
      "343         ...               314.3333        254.5000           95.33334   \n",
      "769         ...               259.0000        220.0000          116.00000   \n",
      "308         ...               274.0000        298.7500           71.50000   \n",
      "661         ...               263.7000        247.5000          112.20000   \n",
      "130         ...               298.1111        249.1111          109.33330   \n",
      "663         ...               260.1000        229.6000          118.70000   \n",
      "871         ...               274.8571        249.0000           75.42857   \n",
      "99          ...               314.6667        245.0000          110.33330   \n",
      "372         ...               260.8750        234.8750          195.50000   \n",
      "87          ...               287.8333        297.3333           91.16666   \n",
      "458         ...               246.7692        243.8462          112.07690   \n",
      "330         ...               325.8333        263.6667          103.66670   \n",
      "214         ...               243.2857        257.0000          120.50000   \n",
      "466         ...               314.5000        256.8571          127.35710   \n",
      "121         ...               256.5555        260.8889          123.33330   \n",
      "614         ...               209.5714        183.7143          120.57140   \n",
      "20          ...               468.5000        295.0000           76.50000   \n",
      "700         ...               265.6923        222.4615          137.53850   \n",
      "71          ...               269.0000        203.4000          130.20000   \n",
      "106         ...               298.5000        259.7500          145.37500   \n",
      "270         ...               325.5000        316.0000          101.50000   \n",
      "860         ...               211.2857        251.2857          153.28570   \n",
      "435         ...               295.2500        273.5000           98.16666   \n",
      "102         ...               288.4286        247.0000          136.00000   \n",
      "\n",
      "      A_Tempo_D  A_Pocket_time_D  A_Pass_Attempts_D  A_Pass_Completions_D  \\\n",
      "432   10.250000         2.333333           32.41667              19.75000   \n",
      "1014   9.187500         2.312500           32.87500              22.06250   \n",
      "507    9.625000         2.312500           32.93750              21.18750   \n",
      "33    10.333330         2.333333           30.00000              21.00000   \n",
      "204   11.000000         2.615385           37.07692              22.00000   \n",
      "889   10.000000         2.375000           31.50000              20.87500   \n",
      "588   10.000000         2.000000           34.00000              24.60000   \n",
      "730   11.142860         2.714286           36.78571              23.28572   \n",
      "77    10.833330         2.500000           37.16667              25.50000   \n",
      "84    10.000000         2.166667           29.33333              18.16667   \n",
      "305    8.250000         2.000000           38.00000              26.00000   \n",
      "82    11.166670         2.500000           32.33333              20.00000   \n",
      "448   10.076920         2.230769           34.61538              21.00000   \n",
      "997    8.533334         2.466667           31.53333              19.60000   \n",
      "751   11.187500         2.437500           31.06250              19.81250   \n",
      "531   11.000000         2.000000           33.00000              21.00000   \n",
      "323   10.000000         2.200000           31.60000              19.20000   \n",
      "495   10.562500         2.187500           38.25000              25.56250   \n",
      "910    9.444445         2.222222           36.00000              24.22222   \n",
      "5      9.000000         3.000000           32.00000              19.00000   \n",
      "425   10.727270         2.090909           38.09091              25.54545   \n",
      "490   10.066670         2.466667           36.66667              23.40000   \n",
      "97    11.000000         2.000000           40.85714              23.71428   \n",
      "1018  10.687500         2.187500           33.06250              23.37500   \n",
      "422   10.090910         2.090909           32.00000              19.45455   \n",
      "885    8.750000         2.125000           28.87500              18.87500   \n",
      "281   12.500000         2.000000           37.00000              23.50000   \n",
      "266   12.000000         2.000000           43.00000              27.00000   \n",
      "442    9.250000         2.416667           40.91667              24.08333   \n",
      "745   10.600000         2.200000           34.26667              22.93333   \n",
      "...         ...              ...                ...                   ...   \n",
      "955    9.333333         2.250000           35.66667              22.08333   \n",
      "191   10.692310         2.153846           40.38462              25.69231   \n",
      "385   10.333330         2.222222           36.00000              23.88889   \n",
      "805   11.333330         2.333333           44.00000              28.66667   \n",
      "413    9.583333         2.166667           39.00000              23.66667   \n",
      "491   10.266670         2.600000           35.26667              22.13333   \n",
      "343    9.333333         2.333333           34.66667              22.50000   \n",
      "769   10.000000         2.000000           27.00000              19.00000   \n",
      "308   10.250000         2.000000           30.75000              17.75000   \n",
      "661   11.100000         2.400000           31.50000              17.90000   \n",
      "130   10.444440         2.000000           33.66667              20.66667   \n",
      "663   11.400000         2.400000           33.90000              21.30000   \n",
      "871    9.250000         2.250000           39.12500              24.37500   \n",
      "99    10.142860         2.285714           39.28571              25.28572   \n",
      "372    9.750000         2.000000           36.87500              24.12500   \n",
      "87     9.000000         2.166667           35.33333              21.33333   \n",
      "458    8.846154         2.230769           40.61538              27.23077   \n",
      "330    9.000000         2.166667           32.16667              18.66667   \n",
      "214   11.142860         2.142857           34.42857              23.92857   \n",
      "466    9.571428         2.142857           38.92857              23.71428   \n",
      "121    9.875000         2.125000           30.25000              19.00000   \n",
      "614   10.750000         2.375000           33.62500              21.25000   \n",
      "20    11.500000         2.000000           28.50000              17.00000   \n",
      "700    9.846154         2.461539           32.84615              21.38461   \n",
      "71     8.800000         2.000000           34.00000              24.80000   \n",
      "106    9.000000         2.125000           36.37500              21.75000   \n",
      "270   12.500000         2.500000           30.50000              21.00000   \n",
      "860    9.000000         2.142857           34.00000              20.71428   \n",
      "435    9.583333         2.166667           36.58333              23.41667   \n",
      "102   11.666670         2.166667           31.16667              21.33333   \n",
      "\n",
      "      A_Air_Yards_D  A_Pass_Yards_D  A_Rushing_yards_D  \n",
      "432        294.5833        250.0000          117.83330  \n",
      "1014       279.1875        253.8750          118.87500  \n",
      "507        286.4375        235.5000          129.43750  \n",
      "33         324.6667        294.3333           96.66666  \n",
      "204        352.0769        252.4615           99.69231  \n",
      "889        263.3750        233.3750          103.87500  \n",
      "588        246.6000        247.4000           80.40000  \n",
      "730        335.3571        271.1429          127.78570  \n",
      "77         259.1667        270.0000          117.66670  \n",
      "84         228.6667        232.5000          133.00000  \n",
      "305        277.5000        312.0000          123.75000  \n",
      "82         293.8333        238.6667          119.83330  \n",
      "448        324.4615        272.6923          128.61540  \n",
      "997        250.4000        220.2000          110.53330  \n",
      "751        279.2500        245.3125          111.31250  \n",
      "531        228.5000        242.5000          105.50000  \n",
      "323        289.8000        271.0000          109.20000  \n",
      "495        307.7500        285.0625           93.50000  \n",
      "910        311.7778        272.8889          105.44440  \n",
      "5          358.0000        307.0000          126.00000  \n",
      "425        301.4546        292.3636           81.72727  \n",
      "490        287.1333        248.0667           87.06667  \n",
      "97         358.8571        261.4286           92.28571  \n",
      "1018       215.0625        245.1250          104.81250  \n",
      "422        265.4546        202.4545          105.45450  \n",
      "885        252.6250        267.3750          155.12500  \n",
      "281        334.0000        285.5000           98.00000  \n",
      "266        251.0000        258.0000          129.00000  \n",
      "442        352.5000        276.0833           96.83334  \n",
      "745        246.8000        234.2667          109.33330  \n",
      "...             ...             ...                ...  \n",
      "955        303.5000        262.5833          137.08330  \n",
      "191        324.3077        283.9231          101.38460  \n",
      "385        292.5555        253.4444          103.22220  \n",
      "805        341.3333        281.6667          124.33330  \n",
      "413        348.6667        287.4167           98.08334  \n",
      "491        252.0000        239.0000          117.13330  \n",
      "343        285.3333        283.6667          117.83330  \n",
      "769        287.0000        226.0000          134.00000  \n",
      "308        268.5000        201.2500           80.50000  \n",
      "661        270.6000        201.7000          110.30000  \n",
      "130        279.4445        238.2222          119.88890  \n",
      "663        314.4000        258.9000          115.50000  \n",
      "871        312.8750        276.8750          118.12500  \n",
      "99         311.4286        263.8571          115.14290  \n",
      "372        286.5000        306.5000          109.25000  \n",
      "87         245.0000        229.5000          107.16670  \n",
      "458        311.2308        288.6923          103.07690  \n",
      "330        253.1667        214.5000          177.66670  \n",
      "214        263.1429        257.0714           97.28571  \n",
      "466        342.6429        280.5000           96.57143  \n",
      "121        218.8750        216.7500          121.00000  \n",
      "614        321.5000        301.7500          117.75000  \n",
      "20         152.5000        154.0000          109.00000  \n",
      "700        278.0769        233.5385          113.23080  \n",
      "71         211.8000        248.6000          116.40000  \n",
      "106        253.3750        229.8750           92.25000  \n",
      "270        313.0000        336.5000           71.50000  \n",
      "860        279.0000        250.2857          152.00000  \n",
      "435        315.9167        279.4167          112.75000  \n",
      "102        275.0000        239.3333          114.33330  \n",
      "\n",
      "[765 rows x 32 columns]\n"
     ]
    }
   ],
   "source": [
    "from sklearn.ensemble import RandomForestClassifier\n",
    "\n",
    "schedule = pd.read_csv(r'C:\\Users\\surfn\\Desktop\\FINAL_PROJECT\\schedule.csv')\n",
    "\n",
    "X = schedule.drop([\"Winner\", \"home_finalscore\", \"away_finalscore\"], axis=1)\n",
    "y = schedule[\"Winner\"].values.reshape(-1)\n",
    "print(X.shape, y.shape)\n",
    "\n",
    "X_train, X_test, y_train, y_test = train_test_split(X, y, random_state=42)\n",
    "print(X_train)"
   ]
  },
  {
   "cell_type": "code",
   "execution_count": 215,
   "metadata": {},
   "outputs": [
    {
     "data": {
      "text/plain": [
       "0.7176470588235294"
      ]
     },
     "execution_count": 215,
     "metadata": {},
     "output_type": "execute_result"
    }
   ],
   "source": [
    "rf = RandomForestClassifier(n_estimators=200)\n",
    "rf = rf.fit(X_train, y_train)\n",
    "rf.score(X_test, y_test)\n"
   ]
  },
  {
   "cell_type": "code",
   "execution_count": 218,
   "metadata": {},
   "outputs": [
    {
     "data": {
      "text/plain": [
       "array([0.485, 0.315, 0.29 , 0.725, 0.125, 0.635, 0.41 , 0.2  , 0.56 ,\n",
       "       0.48 , 0.58 , 0.125, 0.66 , 0.605, 0.495, 0.46 , 0.545, 0.53 ,\n",
       "       0.69 , 0.5  , 0.575, 0.415, 0.31 , 0.295, 0.455, 0.575, 0.3  ,\n",
       "       0.73 , 0.37 , 0.41 , 0.53 , 0.335, 0.255, 0.38 , 0.76 , 0.095,\n",
       "       0.295, 0.605, 0.39 , 0.885, 0.76 , 0.575, 0.635, 0.38 , 0.54 ,\n",
       "       0.655, 0.685, 0.74 , 0.605, 0.4  , 0.72 , 0.78 , 0.345, 0.585,\n",
       "       0.705, 0.79 , 0.23 , 0.695, 0.34 , 0.4  , 0.48 , 0.645, 0.785,\n",
       "       0.855, 0.95 , 0.655, 0.405, 0.565, 0.49 , 0.42 , 0.515, 0.42 ,\n",
       "       0.565, 0.69 , 0.715, 0.635, 0.495, 0.29 , 0.32 , 0.555, 0.35 ,\n",
       "       0.53 , 0.635, 0.54 , 0.41 , 0.13 , 0.525, 0.46 , 0.375, 0.425,\n",
       "       0.495, 0.545, 0.44 , 0.405, 0.31 , 0.315, 0.2  , 0.73 , 0.53 ,\n",
       "       0.895, 0.48 , 0.735, 0.285, 0.875, 0.57 , 0.33 , 0.465, 0.5  ,\n",
       "       0.75 , 0.355, 0.305, 0.62 , 0.475, 0.385, 0.565, 0.155, 0.195,\n",
       "       0.64 , 0.83 , 0.84 , 0.295, 0.53 , 0.405, 0.765, 0.43 , 0.915,\n",
       "       0.92 , 0.38 , 0.63 , 0.75 , 0.495, 0.655, 0.795, 0.765, 0.37 ,\n",
       "       0.78 , 0.49 , 0.505, 0.715, 0.545, 0.39 , 0.61 , 0.31 , 0.175,\n",
       "       0.555, 0.255, 0.8  , 0.63 , 0.425, 0.86 , 0.45 , 0.565, 0.78 ,\n",
       "       0.62 , 0.795, 0.475, 0.56 , 0.72 , 0.7  , 0.445, 0.515, 0.645,\n",
       "       0.14 , 0.225, 0.625, 0.355, 0.83 , 0.68 , 0.265, 0.43 , 0.83 ,\n",
       "       0.405, 0.54 , 0.48 , 0.365, 0.77 , 0.405, 0.305, 0.525, 0.805,\n",
       "       0.225, 0.685, 0.585, 0.8  , 0.6  , 0.33 , 0.62 , 0.105, 0.32 ,\n",
       "       0.845, 0.565, 0.78 , 0.375, 0.555, 0.52 , 0.82 , 0.37 , 0.375,\n",
       "       0.905, 0.6  , 0.635, 0.275, 0.67 , 0.54 , 0.735, 0.385, 0.565,\n",
       "       0.31 , 0.545, 0.41 , 0.455, 0.3  , 0.515, 0.43 , 0.245, 0.4  ,\n",
       "       0.565, 0.52 , 0.58 , 0.24 , 0.47 , 0.345, 0.47 , 0.19 , 0.575,\n",
       "       0.67 , 0.365, 0.55 , 0.295, 0.955, 0.685, 0.905, 0.565, 0.78 ,\n",
       "       0.235, 0.695, 0.735, 0.715, 0.435, 0.465, 0.55 , 0.76 , 0.61 ,\n",
       "       0.22 , 0.855, 0.52 , 0.265, 0.225, 0.69 , 0.875, 0.675, 0.44 ,\n",
       "       0.63 , 0.53 , 0.48 ])"
      ]
     },
     "execution_count": 218,
     "metadata": {},
     "output_type": "execute_result"
    }
   ],
   "source": [
    "\n",
    "# Actual class predictions\n",
    "rf_predictions = rf.predict(X_test)\n",
    "# Probabilities for each class\n",
    "rf_probs = rf.predict_proba(X_test)[:, 1]\n",
    "\n",
    "# rf_predictions\n",
    "rf_probs\n"
   ]
  },
  {
   "cell_type": "code",
   "execution_count": 228,
   "metadata": {},
   "outputs": [],
   "source": [
    "ds = pd.Series(rf_probs)\n",
    "df = pd.DataFrame(ds)\n",
    "df.to_csv(r'C:\\Users\\surfn\\Desktop\\FINAL_PROJECT\\rf_probs.csv')"
   ]
  },
  {
   "cell_type": "code",
   "execution_count": null,
   "metadata": {},
   "outputs": [],
   "source": [
    "plt.plot([x for x in range(2, len(X_train.iloc[0]))],score_list)"
   ]
  },
  {
   "cell_type": "code",
   "execution_count": 155,
   "metadata": {},
   "outputs": [
    {
     "data": {
      "text/plain": [
       "array([0.06635115, 0.07441523, 0.06385353, 0.08982611, 0.02374461,\n",
       "       0.01667007, 0.02363247, 0.02420704, 0.02447519, 0.02516407,\n",
       "       0.03572613, 0.02482507, 0.01718651, 0.02611165, 0.02249889,\n",
       "       0.02802313, 0.02562466, 0.03062411, 0.02055463, 0.01543478,\n",
       "       0.03277189, 0.02220187, 0.03176884, 0.02425812, 0.03351732,\n",
       "       0.02301467, 0.01656864, 0.0340932 , 0.02241515, 0.02837205,\n",
       "       0.02341446, 0.02865474])"
      ]
     },
     "execution_count": 155,
     "metadata": {},
     "output_type": "execute_result"
    }
   ],
   "source": [
    "importances = rf.feature_importances_\n",
    "importances"
   ]
  },
  {
   "cell_type": "code",
   "execution_count": 156,
   "metadata": {},
   "outputs": [
    {
     "data": {
      "text/plain": [
       "[(0.08982611272694294, 'A_PPGA'),\n",
       " (0.07441522579364014, 'H_PPGA'),\n",
       " (0.0663511495490099, 'H_PPG'),\n",
       " (0.06385352953560043, 'A_PPG'),\n",
       " (0.035726131582017456, 'H_Rushing_yards_O'),\n",
       " (0.03409320059889118, 'A_Pass_Attempts_D'),\n",
       " (0.03351732495717364, 'H_Rushing_yards_D'),\n",
       " (0.03277189379491391, 'H_Pass_Attempts_D'),\n",
       " (0.03176884475158134, 'H_Air_Yards_D'),\n",
       " (0.030624114677758284, 'A_Rushing_yards_O'),\n",
       " (0.028654740969675872, 'A_Rushing_yards_D'),\n",
       " (0.02837205059935607, 'A_Air_Yards_D'),\n",
       " (0.028023132588753413, 'A_Air_Yards_O'),\n",
       " (0.026111650546991272, 'A_Pass_Attempts_O'),\n",
       " (0.025624656851247495, 'A_Pass_Yards_O'),\n",
       " (0.02516406514215505, 'H_Pass_Yards_O'),\n",
       " (0.02482506532357573, 'A_Tempo_O'),\n",
       " (0.0244751946643218, 'H_Air_Yards_O'),\n",
       " (0.024258120898479684, 'H_Pass_Yards_D'),\n",
       " (0.024207039236157038, 'H_Pass_Completions_O'),\n",
       " (0.023744612667760706, 'H_Tempo_O'),\n",
       " (0.023632469752546386, 'H_Pass_Attempts_O'),\n",
       " (0.02341446126206646, 'A_Pass_Yards_D'),\n",
       " (0.023014672717234088, 'A_Tempo_D'),\n",
       " (0.022498891027614928, 'A_Pass_Completions_O'),\n",
       " (0.02241514696828798, 'A_Pass_Completions_D'),\n",
       " (0.02220187268398959, 'H_Pass_Completions_D'),\n",
       " (0.020554627039353946, 'H_Tempo_D'),\n",
       " (0.01718651132922998, 'A_Pocket_time_O'),\n",
       " (0.01667006889398927, 'H_Pocket_time_O'),\n",
       " (0.016568638634437593, 'A_Pocket_time_D'),\n",
       " (0.015434782235246263, 'H_Pocket_time_D')]"
      ]
     },
     "execution_count": 156,
     "metadata": {},
     "output_type": "execute_result"
    }
   ],
   "source": [
    "sorted(zip(rf.feature_importances_, X), reverse=True)"
   ]
  },
  {
   "cell_type": "code",
   "execution_count": 191,
   "metadata": {},
   "outputs": [
    {
     "name": "stdout",
     "output_type": "stream",
     "text": [
      "[[27.58333 26.08333]\n",
      " [31.125   22.0625 ]\n",
      " [20.4375  18.4375 ]\n",
      " ...\n",
      " [13.14286 25.85714]\n",
      " [17.16667 25.58333]\n",
      " [20.71428 23.14286]]\n",
      "32\n"
     ]
    }
   ],
   "source": [
    "print(X_train.iloc[:,:2].values)\n",
    "print(len(X_train.iloc[0]))"
   ]
  },
  {
   "cell_type": "code",
   "execution_count": 203,
   "metadata": {},
   "outputs": [
    {
     "name": "stderr",
     "output_type": "stream",
     "text": [
      "C:\\ProgramData\\Anaconda3\\lib\\site-packages\\ipykernel_launcher.py:5: DataConversionWarning: A column-vector y was passed when a 1d array was expected. Please change the shape of y to (n_samples, ), for example using ravel().\n",
      "  \"\"\"\n",
      "C:\\ProgramData\\Anaconda3\\lib\\site-packages\\ipykernel_launcher.py:5: DataConversionWarning: A column-vector y was passed when a 1d array was expected. Please change the shape of y to (n_samples, ), for example using ravel().\n",
      "  \"\"\"\n",
      "C:\\ProgramData\\Anaconda3\\lib\\site-packages\\ipykernel_launcher.py:5: DataConversionWarning: A column-vector y was passed when a 1d array was expected. Please change the shape of y to (n_samples, ), for example using ravel().\n",
      "  \"\"\"\n",
      "C:\\ProgramData\\Anaconda3\\lib\\site-packages\\ipykernel_launcher.py:5: DataConversionWarning: A column-vector y was passed when a 1d array was expected. Please change the shape of y to (n_samples, ), for example using ravel().\n",
      "  \"\"\"\n",
      "C:\\ProgramData\\Anaconda3\\lib\\site-packages\\ipykernel_launcher.py:5: DataConversionWarning: A column-vector y was passed when a 1d array was expected. Please change the shape of y to (n_samples, ), for example using ravel().\n",
      "  \"\"\"\n",
      "C:\\ProgramData\\Anaconda3\\lib\\site-packages\\ipykernel_launcher.py:5: DataConversionWarning: A column-vector y was passed when a 1d array was expected. Please change the shape of y to (n_samples, ), for example using ravel().\n",
      "  \"\"\"\n",
      "C:\\ProgramData\\Anaconda3\\lib\\site-packages\\ipykernel_launcher.py:5: DataConversionWarning: A column-vector y was passed when a 1d array was expected. Please change the shape of y to (n_samples, ), for example using ravel().\n",
      "  \"\"\"\n",
      "C:\\ProgramData\\Anaconda3\\lib\\site-packages\\ipykernel_launcher.py:5: DataConversionWarning: A column-vector y was passed when a 1d array was expected. Please change the shape of y to (n_samples, ), for example using ravel().\n",
      "  \"\"\"\n",
      "C:\\ProgramData\\Anaconda3\\lib\\site-packages\\ipykernel_launcher.py:5: DataConversionWarning: A column-vector y was passed when a 1d array was expected. Please change the shape of y to (n_samples, ), for example using ravel().\n",
      "  \"\"\"\n",
      "C:\\ProgramData\\Anaconda3\\lib\\site-packages\\ipykernel_launcher.py:5: DataConversionWarning: A column-vector y was passed when a 1d array was expected. Please change the shape of y to (n_samples, ), for example using ravel().\n",
      "  \"\"\"\n",
      "C:\\ProgramData\\Anaconda3\\lib\\site-packages\\ipykernel_launcher.py:5: DataConversionWarning: A column-vector y was passed when a 1d array was expected. Please change the shape of y to (n_samples, ), for example using ravel().\n",
      "  \"\"\"\n",
      "C:\\ProgramData\\Anaconda3\\lib\\site-packages\\ipykernel_launcher.py:5: DataConversionWarning: A column-vector y was passed when a 1d array was expected. Please change the shape of y to (n_samples, ), for example using ravel().\n",
      "  \"\"\"\n",
      "C:\\ProgramData\\Anaconda3\\lib\\site-packages\\ipykernel_launcher.py:5: DataConversionWarning: A column-vector y was passed when a 1d array was expected. Please change the shape of y to (n_samples, ), for example using ravel().\n",
      "  \"\"\"\n",
      "C:\\ProgramData\\Anaconda3\\lib\\site-packages\\ipykernel_launcher.py:5: DataConversionWarning: A column-vector y was passed when a 1d array was expected. Please change the shape of y to (n_samples, ), for example using ravel().\n",
      "  \"\"\"\n",
      "C:\\ProgramData\\Anaconda3\\lib\\site-packages\\ipykernel_launcher.py:5: DataConversionWarning: A column-vector y was passed when a 1d array was expected. Please change the shape of y to (n_samples, ), for example using ravel().\n",
      "  \"\"\"\n",
      "C:\\ProgramData\\Anaconda3\\lib\\site-packages\\ipykernel_launcher.py:5: DataConversionWarning: A column-vector y was passed when a 1d array was expected. Please change the shape of y to (n_samples, ), for example using ravel().\n",
      "  \"\"\"\n",
      "C:\\ProgramData\\Anaconda3\\lib\\site-packages\\ipykernel_launcher.py:5: DataConversionWarning: A column-vector y was passed when a 1d array was expected. Please change the shape of y to (n_samples, ), for example using ravel().\n",
      "  \"\"\"\n",
      "C:\\ProgramData\\Anaconda3\\lib\\site-packages\\ipykernel_launcher.py:5: DataConversionWarning: A column-vector y was passed when a 1d array was expected. Please change the shape of y to (n_samples, ), for example using ravel().\n",
      "  \"\"\"\n",
      "C:\\ProgramData\\Anaconda3\\lib\\site-packages\\ipykernel_launcher.py:5: DataConversionWarning: A column-vector y was passed when a 1d array was expected. Please change the shape of y to (n_samples, ), for example using ravel().\n",
      "  \"\"\"\n",
      "C:\\ProgramData\\Anaconda3\\lib\\site-packages\\ipykernel_launcher.py:5: DataConversionWarning: A column-vector y was passed when a 1d array was expected. Please change the shape of y to (n_samples, ), for example using ravel().\n",
      "  \"\"\"\n",
      "C:\\ProgramData\\Anaconda3\\lib\\site-packages\\ipykernel_launcher.py:5: DataConversionWarning: A column-vector y was passed when a 1d array was expected. Please change the shape of y to (n_samples, ), for example using ravel().\n",
      "  \"\"\"\n",
      "C:\\ProgramData\\Anaconda3\\lib\\site-packages\\ipykernel_launcher.py:5: DataConversionWarning: A column-vector y was passed when a 1d array was expected. Please change the shape of y to (n_samples, ), for example using ravel().\n",
      "  \"\"\"\n",
      "C:\\ProgramData\\Anaconda3\\lib\\site-packages\\ipykernel_launcher.py:5: DataConversionWarning: A column-vector y was passed when a 1d array was expected. Please change the shape of y to (n_samples, ), for example using ravel().\n",
      "  \"\"\"\n",
      "C:\\ProgramData\\Anaconda3\\lib\\site-packages\\ipykernel_launcher.py:5: DataConversionWarning: A column-vector y was passed when a 1d array was expected. Please change the shape of y to (n_samples, ), for example using ravel().\n",
      "  \"\"\"\n",
      "C:\\ProgramData\\Anaconda3\\lib\\site-packages\\ipykernel_launcher.py:5: DataConversionWarning: A column-vector y was passed when a 1d array was expected. Please change the shape of y to (n_samples, ), for example using ravel().\n",
      "  \"\"\"\n",
      "C:\\ProgramData\\Anaconda3\\lib\\site-packages\\ipykernel_launcher.py:5: DataConversionWarning: A column-vector y was passed when a 1d array was expected. Please change the shape of y to (n_samples, ), for example using ravel().\n",
      "  \"\"\"\n",
      "C:\\ProgramData\\Anaconda3\\lib\\site-packages\\ipykernel_launcher.py:5: DataConversionWarning: A column-vector y was passed when a 1d array was expected. Please change the shape of y to (n_samples, ), for example using ravel().\n",
      "  \"\"\"\n",
      "C:\\ProgramData\\Anaconda3\\lib\\site-packages\\ipykernel_launcher.py:5: DataConversionWarning: A column-vector y was passed when a 1d array was expected. Please change the shape of y to (n_samples, ), for example using ravel().\n",
      "  \"\"\"\n",
      "C:\\ProgramData\\Anaconda3\\lib\\site-packages\\ipykernel_launcher.py:5: DataConversionWarning: A column-vector y was passed when a 1d array was expected. Please change the shape of y to (n_samples, ), for example using ravel().\n",
      "  \"\"\"\n",
      "C:\\ProgramData\\Anaconda3\\lib\\site-packages\\ipykernel_launcher.py:5: DataConversionWarning: A column-vector y was passed when a 1d array was expected. Please change the shape of y to (n_samples, ), for example using ravel().\n",
      "  \"\"\"\n"
     ]
    }
   ],
   "source": [
    "score_list = []\n",
    "\n",
    "for a in range(2, len(X_train.iloc[0])):\n",
    "    model = KNeighborsClassifier()\n",
    "    model.fit(X_train.iloc[:,:a].values, y_train.reshape(-1,1))\n",
    "    score = model.score(X_test.iloc[:,:a].values, y_test.reshape(-1,1))\n",
    "    score_list.append(score)\n",
    "\n",
    "    \n",
    "\n",
    "    \n",
    "\n",
    "\n",
    "# Fitting our model with all of our features in X\n",
    "\n",
    "\n",
    "# print(f\"R2 Score: {score}\")"
   ]
  },
  {
   "cell_type": "code",
   "execution_count": 204,
   "metadata": {},
   "outputs": [
    {
     "data": {
      "text/plain": [
       "[<matplotlib.lines.Line2D at 0x26007e2e2b0>]"
      ]
     },
     "execution_count": 204,
     "metadata": {},
     "output_type": "execute_result"
    },
    {
     "data": {
      "image/png": "[encoded data removed]",
      "text/plain": [
       "<Figure size 432x288 with 1 Axes>"
      ]
     },
     "metadata": {
      "needs_background": "light"
     },
     "output_type": "display_data"
    }
   ],
   "source": [
    "plt.plot([x for x in range(2, len(X_train.iloc[0]))],score_list)"
   ]
  },
  {
   "cell_type": "code",
   "execution_count": null,
   "metadata": {},
   "outputs": [],
   "source": []
  }
 ],
 "metadata": {
  "kernelspec": {
   "display_name": "Python 3",
   "language": "python",
   "name": "python3"
  },
  "language_info": {
   "codemirror_mode": {
    "name": "ipython",
    "version": 3
   },
   "file_extension": ".py",
   "mimetype": "text/x-python",
   "name": "python",
   "nbconvert_exporter": "python",
   "pygments_lexer": "ipython3",
   "version": "3.7.1"
  }
 },
 "nbformat": 4,
 "nbformat_minor": 2
}
